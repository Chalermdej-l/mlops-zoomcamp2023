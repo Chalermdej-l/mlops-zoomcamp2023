{
 "cells": [
  {
   "cell_type": "code",
   "execution_count": 2,
   "metadata": {},
   "outputs": [],
   "source": [
    "import wandb\n",
    "import sklearn\n",
    "import matplotlib as plt\n",
    "import pandas as pd\n",
    "import os\n",
    "from prefect.deployments import Deployment\n",
    "import orchestrate"
   ]
  },
  {
   "cell_type": "code",
   "execution_count": 1,
   "metadata": {},
   "outputs": [
    {
     "data": {
      "text/plain": [
       "'@task(retries=3, retry_delay_seconds=2, name=\"Read taxi data\")'"
      ]
     },
     "execution_count": 1,
     "metadata": {},
     "output_type": "execute_result"
    }
   ],
   "source": [
    "# Q1\n",
    "'@task(retries=3, retry_delay_seconds=2, name=\"Read taxi data\")'"
   ]
  },
  {
   "cell_type": "code",
   "execution_count": 7,
   "metadata": {},
   "outputs": [
    {
     "data": {
      "text/plain": [
       "'0 9 3 * *'"
      ]
     },
     "execution_count": 7,
     "metadata": {},
     "output_type": "execute_result"
    }
   ],
   "source": [
    "# Q2\n",
    "# prefect deployment build --name hmw3deploy --cron \"0 9 3 * *\" orchestrate.py:main_flow\n",
    "'0 9 3 * *'"
   ]
  },
  {
   "cell_type": "code",
   "execution_count": 11,
   "metadata": {},
   "outputs": [],
   "source": [
    "# Q3\n",
    "def getdata(color,year,month):\n",
    "    link = f'https://d37ci6vzurychx.cloudfront.net/trip-data/{color}_tripdata_{year}-{month}.parquet'\n",
    "    data = pd.read_parquet(link)\n",
    "    return data\n",
    "color = 'green'\n",
    "year = '2023'\n",
    "months = [i for i in range(1,3)]\n",
    "for month in months:\n",
    "    i = f'{month:02}'\n",
    "    df = getdata(color,year,i)\n",
    "    df.to_parquet(f'data/{color}_tripdata_{year}-{i}.parquet')\n",
    "# prefect agent start -p hm3\n",
    "# 5.19931"
   ]
  },
  {
   "cell_type": "code",
   "execution_count": 12,
   "metadata": {},
   "outputs": [],
   "source": [
    "color = 'green'\n",
    "year = '2023'\n",
    "months = [i for i in range(2,4)]\n",
    "for month in months:\n",
    "    i = f'{month:02}'\n",
    "    df = getdata(color,year,i)\n",
    "    df.to_parquet(f'data/{color}_tripdata_{year}-{i}.parquet')\n",
    "# Q4\n",
    "5.37"
   ]
  },
  {
   "cell_type": "code",
   "execution_count": 1,
   "metadata": {},
   "outputs": [
    {
     "data": {
      "text/html": [
       "<pre style=\"white-space:pre;overflow-x:auto;line-height:normal;font-family:Menlo,'DejaVu Sans Mono',consolas,'Courier New',monospace\">11:05:46.714 | <span style=\"color: #008080; text-decoration-color: #008080\">INFO</span>    | prefect.engine - Created flow run<span style=\"color: #800080; text-decoration-color: #800080\"> 'mysterious-dragon'</span> for flow<span style=\"color: #800080; text-decoration-color: #800080; font-weight: bold\"> 'example-email-send-message-flow'</span>\n",
       "</pre>\n"
      ],
      "text/plain": [
       "11:05:46.714 | \u001b[36mINFO\u001b[0m    | prefect.engine - Created flow run\u001b[35m 'mysterious-dragon'\u001b[0m for flow\u001b[1;35m 'example-email-send-message-flow'\u001b[0m\n"
      ]
     },
     "metadata": {},
     "output_type": "display_data"
    },
    {
     "data": {
      "text/html": [
       "<pre style=\"white-space:pre;overflow-x:auto;line-height:normal;font-family:Menlo,'DejaVu Sans Mono',consolas,'Courier New',monospace\">11:05:46.720 | <span style=\"color: #008080; text-decoration-color: #008080\">INFO</span>    | Flow run<span style=\"color: #800080; text-decoration-color: #800080\"> 'mysterious-dragon'</span> - View at <span style=\"color: #0000ff; text-decoration-color: #0000ff\">https://app.prefect.cloud/account/02d83112-9138-42e0-a5bb-f8d4742abf05/workspace/5991b24a-ed84-4123-b6c8-c138fc72e18d/flow-runs/flow-run/1ad11cce-c98d-4ee7-8815-7c7fa1abc2ea</span>\n",
       "</pre>\n"
      ],
      "text/plain": [
       "11:05:46.720 | \u001b[36mINFO\u001b[0m    | Flow run\u001b[35m 'mysterious-dragon'\u001b[0m - View at \u001b[94mhttps://app.prefect.cloud/account/02d83112-9138-42e0-a5bb-f8d4742abf05/workspace/5991b24a-ed84-4123-b6c8-c138fc72e18d/flow-runs/flow-run/1ad11cce-c98d-4ee7-8815-7c7fa1abc2ea\u001b[0m\n"
      ]
     },
     "metadata": {},
     "output_type": "display_data"
    },
    {
     "data": {
      "text/html": [
       "<pre style=\"white-space:pre;overflow-x:auto;line-height:normal;font-family:Menlo,'DejaVu Sans Mono',consolas,'Courier New',monospace\">11:05:49.249 | <span style=\"color: #008080; text-decoration-color: #008080\">INFO</span>    | Flow run<span style=\"color: #800080; text-decoration-color: #800080\"> 'mysterious-dragon'</span> - Created task run 'email chalermdej.lematavekul@gmail.com-0' for task 'email chalermdej.lematavekul@gmail.com'\n",
       "</pre>\n"
      ],
      "text/plain": [
       "11:05:49.249 | \u001b[36mINFO\u001b[0m    | Flow run\u001b[35m 'mysterious-dragon'\u001b[0m - Created task run 'email chalermdej.lematavekul@gmail.com-0' for task 'email chalermdej.lematavekul@gmail.com'\n"
      ]
     },
     "metadata": {},
     "output_type": "display_data"
    },
    {
     "data": {
      "text/html": [
       "<pre style=\"white-space:pre;overflow-x:auto;line-height:normal;font-family:Menlo,'DejaVu Sans Mono',consolas,'Courier New',monospace\">11:05:49.251 | <span style=\"color: #008080; text-decoration-color: #008080\">INFO</span>    | Flow run<span style=\"color: #800080; text-decoration-color: #800080\"> 'mysterious-dragon'</span> - Submitted task run 'email chalermdej.lematavekul@gmail.com-0' for execution.\n",
       "</pre>\n"
      ],
      "text/plain": [
       "11:05:49.251 | \u001b[36mINFO\u001b[0m    | Flow run\u001b[35m 'mysterious-dragon'\u001b[0m - Submitted task run 'email chalermdej.lematavekul@gmail.com-0' for execution.\n"
      ]
     },
     "metadata": {},
     "output_type": "display_data"
    },
    {
     "data": {
      "text/html": [
       "<pre style=\"white-space:pre;overflow-x:auto;line-height:normal;font-family:Menlo,'DejaVu Sans Mono',consolas,'Courier New',monospace\">11:05:54.222 | <span style=\"color: #008080; text-decoration-color: #008080\">INFO</span>    | Task run 'email chalermdej.lematavekul@gmail.com-0' - Finished in state <span style=\"color: #008000; text-decoration-color: #008000\">Completed</span>()\n",
       "</pre>\n"
      ],
      "text/plain": [
       "11:05:54.222 | \u001b[36mINFO\u001b[0m    | Task run 'email chalermdej.lematavekul@gmail.com-0' - Finished in state \u001b[32mCompleted\u001b[0m()\n"
      ]
     },
     "metadata": {},
     "output_type": "display_data"
    },
    {
     "data": {
      "text/html": [
       "<pre style=\"white-space:pre;overflow-x:auto;line-height:normal;font-family:Menlo,'DejaVu Sans Mono',consolas,'Courier New',monospace\">11:05:55.197 | <span style=\"color: #008080; text-decoration-color: #008080\">INFO</span>    | Flow run<span style=\"color: #800080; text-decoration-color: #800080\"> 'mysterious-dragon'</span> - Finished in state <span style=\"color: #008000; text-decoration-color: #008000\">Completed</span>('All states completed.')\n",
       "</pre>\n"
      ],
      "text/plain": [
       "11:05:55.197 | \u001b[36mINFO\u001b[0m    | Flow run\u001b[35m 'mysterious-dragon'\u001b[0m - Finished in state \u001b[32mCompleted\u001b[0m('All states completed.')\n"
      ]
     },
     "metadata": {},
     "output_type": "display_data"
    },
    {
     "data": {
      "text/plain": [
       "[Completed(message=None, type=COMPLETED, result=UnpersistedResult(type='unpersisted', artifact_type='result', artifact_description='Unpersisted result of type `MIMEMultipart`'))]"
      ]
     },
     "execution_count": 1,
     "metadata": {},
     "output_type": "execute_result"
    }
   ],
   "source": [
    "from prefect_email import EmailServerCredentials, email_send_message\n",
    "from prefect import flow\n",
    "@flow\n",
    "def example_email_send_message_flow(email_addresses: list[str]):\n",
    "    email_server_credentials = EmailServerCredentials.load(\"hm3email\")\n",
    "    for email_address in email_addresses:\n",
    "        subject = email_send_message.with_options(name=f\"email {email_address}\").submit(\n",
    "            email_server_credentials=email_server_credentials,\n",
    "            subject=\"Example Flow Notification using Gmail\",\n",
    "            msg=\"This proves email_send_message works!\",\n",
    "            email_to=email_address,\n",
    "        )\n",
    "\n",
    "example_email_send_message_flow([\"chalermdej.lematavekul@gmail.com\"])\n",
    "\n",
    "# Q5\n",
    "# email_send_message"
   ]
  },
  {
   "cell_type": "code",
   "execution_count": 2,
   "metadata": {},
   "outputs": [],
   "source": [
    "# Q6\n",
    "# Actions"
   ]
  },
  {
   "cell_type": "code",
   "execution_count": null,
   "metadata": {},
   "outputs": [],
   "source": []
  }
 ],
 "metadata": {
  "kernelspec": {
   "display_name": "Python 3.9.7 ('.venv': venv)",
   "language": "python",
   "name": "python3"
  },
  "language_info": {
   "codemirror_mode": {
    "name": "ipython",
    "version": 3
   },
   "file_extension": ".py",
   "mimetype": "text/x-python",
   "name": "python",
   "nbconvert_exporter": "python",
   "pygments_lexer": "ipython3",
   "version": "3.9.7"
  },
  "orig_nbformat": 4,
  "vscode": {
   "interpreter": {
    "hash": "19af1a4fe0f07ee74bdc71e65a57ba00518dfe333f7db7ded39522da28c4341a"
   }
  }
 },
 "nbformat": 4,
 "nbformat_minor": 2
}
