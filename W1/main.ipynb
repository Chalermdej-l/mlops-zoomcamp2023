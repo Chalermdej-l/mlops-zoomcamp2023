{
 "cells": [
  {
   "cell_type": "code",
   "execution_count": 105,
   "metadata": {},
   "outputs": [],
   "source": [
    "import pandas as pd\n",
    "from  sklearn.feature_extraction import DictVectorizer\n",
    "from sklearn.linear_model import LinearRegression\n",
    "from sklearn.metrics import mean_squared_error"
   ]
  },
  {
   "cell_type": "code",
   "execution_count": 19,
   "metadata": {},
   "outputs": [],
   "source": [
    "def getdata(color,year,month):\n",
    "    link = f'https://d37ci6vzurychx.cloudfront.net/trip-data/{color}_tripdata_{year}-{month}.parquet'\n",
    "    data = pd.read_parquet(link)\n",
    "    return data"
   ]
  },
  {
   "cell_type": "code",
   "execution_count": 47,
   "metadata": {},
   "outputs": [],
   "source": [
    "color = 'yellow'\n",
    "year = '2022'\n",
    "month = '01'\n",
    "datajan = getdata(color,year,month)\n",
    "month = '02'\n",
    "datafeb = getdata(color,year,month)"
   ]
  },
  {
   "cell_type": "code",
   "execution_count": 25,
   "metadata": {},
   "outputs": [
    {
     "data": {
      "text/plain": [
       "19"
      ]
     },
     "execution_count": 25,
     "metadata": {},
     "output_type": "execute_result"
    }
   ],
   "source": [
    "# Q1\n",
    "len(datajan.columns)"
   ]
  },
  {
   "cell_type": "code",
   "execution_count": 50,
   "metadata": {},
   "outputs": [
    {
     "data": {
      "text/plain": [
       "46.45"
      ]
     },
     "execution_count": 50,
     "metadata": {},
     "output_type": "execute_result"
    }
   ],
   "source": [
    "# Q2\n",
    "datajan['duration'] = (datajan.tpep_dropoff_datetime - datajan.tpep_pickup_datetime).dt.total_seconds()/60\n",
    "round(datajan.duration.std(),2)"
   ]
  },
  {
   "cell_type": "code",
   "execution_count": 67,
   "metadata": {},
   "outputs": [
    {
     "data": {
      "text/plain": [
       "0.9827547930522406"
      ]
     },
     "execution_count": 67,
     "metadata": {},
     "output_type": "execute_result"
    }
   ],
   "source": [
    "# Q3\n",
    "data_filter = datajan.loc[datajan.duration.between(1.00,60.00)]\n",
    "len(data_filter) / len(datajan)"
   ]
  },
  {
   "cell_type": "code",
   "execution_count": 103,
   "metadata": {},
   "outputs": [
    {
     "data": {
      "text/plain": [
       "515"
      ]
     },
     "execution_count": 103,
     "metadata": {},
     "output_type": "execute_result"
    }
   ],
   "source": [
    "# Q4\n",
    "data_train = data_filter[['PULocationID','DOLocationID']].astype('string').to_dict(orient='records')\n",
    "dv = DictVectorizer(sparse=True)\n",
    "x_train  = dv.fit_transform(data_train)\n",
    "y_test = data_filter.duration.values\n",
    "len(dv.feature_names_)"
   ]
  },
  {
   "cell_type": "code",
   "execution_count": 112,
   "metadata": {},
   "outputs": [
    {
     "data": {
      "text/plain": [
       "6.986190135963634"
      ]
     },
     "execution_count": 112,
     "metadata": {},
     "output_type": "execute_result"
    }
   ],
   "source": [
    "# Q5\n",
    "model = LinearRegression()\n",
    "model.fit(x_train,y_test)\n",
    "pred = model.predict(x_train)\n",
    "mean_squared_error(y_test,pred,squared=False)"
   ]
  },
  {
   "cell_type": "code",
   "execution_count": 117,
   "metadata": {},
   "outputs": [
    {
     "data": {
      "text/plain": [
       "7.786389503124976"
      ]
     },
     "execution_count": 117,
     "metadata": {},
     "output_type": "execute_result"
    }
   ],
   "source": [
    "# Q6\n",
    "datafeb['duration'] = (datafeb.tpep_dropoff_datetime - datafeb.tpep_pickup_datetime).dt.total_seconds()/60\n",
    "data_filter = datafeb.loc[datafeb.duration.between(1.00,60.00)]\n",
    "\n",
    "x_train  = dv.transform(data_filter[['PULocationID','DOLocationID']].astype('string').to_dict(orient='records'))\n",
    "y_test = data_filter.duration.values\n",
    "pred = model.predict(x_train)\n",
    "mean_squared_error(y_test,pred,squared=False)"
   ]
  }
 ],
 "metadata": {
  "kernelspec": {
   "display_name": "Python 3.9.7 64-bit",
   "language": "python",
   "name": "python3"
  },
  "language_info": {
   "codemirror_mode": {
    "name": "ipython",
    "version": 3
   },
   "file_extension": ".py",
   "mimetype": "text/x-python",
   "name": "python",
   "nbconvert_exporter": "python",
   "pygments_lexer": "ipython3",
   "version": "3.9.7"
  },
  "orig_nbformat": 4,
  "vscode": {
   "interpreter": {
    "hash": "601b049b69c015f341cf049bdfa863242bcd463fff4e9ea5ae96948b9f5d87db"
   }
  }
 },
 "nbformat": 4,
 "nbformat_minor": 2
}
