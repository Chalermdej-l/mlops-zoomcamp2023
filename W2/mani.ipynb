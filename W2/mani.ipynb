{
 "cells": [
  {
   "cell_type": "code",
   "execution_count": 127,
   "metadata": {},
   "outputs": [],
   "source": [
    "import pandas as pd\n",
    "from  sklearn.feature_extraction import DictVectorizer\n",
    "from sklearn.linear_model import LinearRegression\n",
    "from sklearn.metrics import mean_squared_error"
   ]
  },
  {
   "cell_type": "code",
   "execution_count": 128,
   "metadata": {},
   "outputs": [
    {
     "name": "stdout",
     "output_type": "stream",
     "text": [
      "mlflow, version 2.3.2\n"
     ]
    }
   ],
   "source": [
    "# Q1\n",
    "!mlflow --version"
   ]
  },
  {
   "cell_type": "code",
   "execution_count": 129,
   "metadata": {},
   "outputs": [],
   "source": [
    "def getdata(color,year,month):\n",
    "    link = f'https://d37ci6vzurychx.cloudfront.net/trip-data/{color}_tripdata_{year}-{month:02}.parquet'\n",
    "    data = pd.read_parquet(link)\n",
    "    return data\n",
    "color = 'green'\n",
    "year = '2022'\n",
    "months = [i for i in range(1,4)]\n",
    "for month in months:\n",
    "    df_taxi = getdata(color,year,month)\n",
    "    df_taxi.to_parquet(f'data/{color}_tripdata_{year}-{month:02}.parquet',compression='gzip',index=False)\n"
   ]
  },
  {
   "cell_type": "code",
   "execution_count": 130,
   "metadata": {},
   "outputs": [
    {
     "data": {
      "text/plain": [
       "153660"
      ]
     },
     "execution_count": 130,
     "metadata": {},
     "output_type": "execute_result"
    }
   ],
   "source": [
    "# Q2 \n",
    "import os\n",
    "os.stat('output/dv.pkl').st_size"
   ]
  },
  {
   "cell_type": "code",
   "execution_count": 131,
   "metadata": {},
   "outputs": [
    {
     "name": "stdout",
     "output_type": "stream",
     "text": [
      "10\n"
     ]
    }
   ],
   "source": [
    "#Q3\n",
    "import os\n",
    "with open('mlruns/0/e371845252da42a6bb23d7e6f81f0086/params/max_depth','r') as f:\n",
    "    print(f.read())"
   ]
  },
  {
   "cell_type": "code",
   "execution_count": 132,
   "metadata": {},
   "outputs": [
    {
     "name": "stdout",
     "output_type": "stream",
     "text": [
      "2.449827329704216\n"
     ]
    }
   ],
   "source": [
    "#Q4\n",
    "from mlflow.tracking import MlflowClient\n",
    "client = MlflowClient(tracking_uri='sqlite:///mlflow.db')\n",
    "result = client.search_runs(\n",
    "    experiment_ids=2,\n",
    "    filter_string=\"\",\n",
    "    max_results=1,\n",
    "    order_by=[\"metrics.rmse ASC\"]\n",
    ")\n",
    "print(result[0].data.metrics['rmse'])"
   ]
  },
  {
   "cell_type": "code",
   "execution_count": 133,
   "metadata": {},
   "outputs": [
    {
     "data": {
      "text/plain": [
       "2.449827329704216"
      ]
     },
     "execution_count": 133,
     "metadata": {},
     "output_type": "execute_result"
    }
   ],
   "source": [
    "result[0].data.metrics['rmse']"
   ]
  },
  {
   "cell_type": "code",
   "execution_count": 134,
   "metadata": {},
   "outputs": [
    {
     "name": "stdout",
     "output_type": "stream",
     "text": [
      "2.2854691906481364\n"
     ]
    }
   ],
   "source": [
    "#Q5\n",
    "from mlflow.tracking import MlflowClient\n",
    "client = MlflowClient(tracking_uri='sqlite:///mlflow.db')\n",
    "result = client.search_registered_models(\n",
    "filter_string=''\n",
    ")\n",
    "print(result[0].latest_versions[0].tags['testrmse'])"
   ]
  },
  {
   "cell_type": "code",
   "execution_count": 135,
   "metadata": {},
   "outputs": [],
   "source": [
    "#Q6\n",
    "# Version Number"
   ]
  }
 ],
 "metadata": {
  "kernelspec": {
   "display_name": "Python 3.9.7 ('.venv': venv)",
   "language": "python",
   "name": "python3"
  },
  "language_info": {
   "codemirror_mode": {
    "name": "ipython",
    "version": 3
   },
   "file_extension": ".py",
   "mimetype": "text/x-python",
   "name": "python",
   "nbconvert_exporter": "python",
   "pygments_lexer": "ipython3",
   "version": "3.9.7"
  },
  "orig_nbformat": 4,
  "vscode": {
   "interpreter": {
    "hash": "19af1a4fe0f07ee74bdc71e65a57ba00518dfe333f7db7ded39522da28c4341a"
   }
  }
 },
 "nbformat": 4,
 "nbformat_minor": 2
}
