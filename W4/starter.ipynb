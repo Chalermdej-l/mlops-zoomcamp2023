{
 "cells": [
  {
   "cell_type": "code",
   "execution_count": 40,
   "id": "0ef880a0",
   "metadata": {},
   "outputs": [],
   "source": [
    "import pickle\n",
    "import pandas as pd\n",
    "from sklearn.metrics import mean_squared_error"
   ]
  },
  {
   "cell_type": "code",
   "execution_count": 41,
   "id": "7836ccfd",
   "metadata": {},
   "outputs": [],
   "source": [
    "with open('model.bin', 'rb') as f_in:\n",
    "    dv, model = pickle.load(f_in)"
   ]
  },
  {
   "cell_type": "code",
   "execution_count": 42,
   "id": "41c08294",
   "metadata": {},
   "outputs": [],
   "source": [
    "categorical = ['PULocationID', 'DOLocationID']\n",
    "\n",
    "def read_data(filename):\n",
    "    \n",
    "    df = pd.read_parquet(filename)\n",
    "    \n",
    "    df['duration'] = df.tpep_dropoff_datetime - df.tpep_pickup_datetime\n",
    "    df['duration'] = df.duration.dt.total_seconds() / 60\n",
    "\n",
    "    df = df[(df.duration >= 1) & (df.duration <= 60)].copy()\n",
    "\n",
    "    df[categorical] = df[categorical].fillna(-1).astype('int').astype('str')\n",
    "    \n",
    "    return df"
   ]
  },
  {
   "cell_type": "code",
   "execution_count": 43,
   "id": "4854399a",
   "metadata": {},
   "outputs": [],
   "source": [
    "year = 2022\n",
    "month = 2\n",
    "df = read_data(f'https://d37ci6vzurychx.cloudfront.net/trip-data/yellow_tripdata_{year}-{month:02}.parquet')"
   ]
  },
  {
   "cell_type": "code",
   "execution_count": 44,
   "id": "669fda0a",
   "metadata": {},
   "outputs": [],
   "source": [
    "dicts = df[categorical].to_dict(orient='records')\n",
    "X_val = dv.transform(dicts)\n",
    "y_pred = model.predict(X_val)"
   ]
  },
  {
   "cell_type": "code",
   "execution_count": 45,
   "id": "df0a42cb",
   "metadata": {},
   "outputs": [
    {
     "name": "stdout",
     "output_type": "stream",
     "text": [
      "60.6281664401994\n",
      "5.28140357655334\n"
     ]
    }
   ],
   "source": [
    "# Q1\n",
    "y_val = df['duration']\n",
    "error = mean_squared_error(y_val,y_pred)\n",
    "print(error)\n",
    "print(y_pred.std())"
   ]
  },
  {
   "cell_type": "code",
   "execution_count": 56,
   "id": "890ea225",
   "metadata": {},
   "outputs": [
    {
     "data": {
      "text/plain": [
       "58.5886845703125"
      ]
     },
     "execution_count": 56,
     "metadata": {},
     "output_type": "execute_result"
    }
   ],
   "source": [
    "# Q2\n",
    "import os \n",
    "outputfile=  f'outputpredtict_{year}_{month}.parquet'\n",
    "df_result = pd.DataFrame()\n",
    "df_result['ride_id'] = f'{year:04d}/{month:02d}_' + df.index.astype('str')\n",
    "df_result['pred'] = y_pred\n",
    "df_result.to_parquet(\n",
    "    outputfile,\n",
    "    engine='pyarrow',\n",
    "    compression=None,\n",
    "    index=False\n",
    ")\n",
    "\n",
    "os.stat(outputfile).st_size / 1024000"
   ]
  },
  {
   "cell_type": "code",
   "execution_count": 59,
   "id": "d9711f96",
   "metadata": {},
   "outputs": [
    {
     "name": "stderr",
     "output_type": "stream",
     "text": [
      "[NbConvertApp] Converting notebook starter.ipynb to python\n",
      "[NbConvertApp] Writing 1081 bytes to starter.py\n"
     ]
    }
   ],
   "source": [
    "# Q3\n",
    "!jupyter nbconvert --to python starter.ipynb"
   ]
  },
  {
   "cell_type": "code",
   "execution_count": 68,
   "id": "212a7c2e",
   "metadata": {},
   "outputs": [],
   "source": [
    "# Q4\n",
    "# sha256:sha256:065e9673e24e0dc5113e2dd2b4ca30c9d8aa2fa90f4c0597241c93b63130d233"
   ]
  },
  {
   "cell_type": "code",
   "execution_count": null,
   "id": "a67ed616",
   "metadata": {},
   "outputs": [],
   "source": [
    "# Q5\n",
    "# Run CMD python starter.py 2022 03\n",
    "# 12.76"
   ]
  },
  {
   "cell_type": "code",
   "execution_count": 1,
   "id": "fbb6a571",
   "metadata": {},
   "outputs": [],
   "source": [
    "# Q6\n",
    "# 12.83"
   ]
  },
  {
   "cell_type": "code",
   "execution_count": null,
   "id": "a7e41d5d",
   "metadata": {},
   "outputs": [],
   "source": []
  }
 ],
 "metadata": {
  "kernelspec": {
   "display_name": "Python 3.9.7 ('.venv': venv)",
   "language": "python",
   "name": "python3"
  },
  "language_info": {
   "codemirror_mode": {
    "name": "ipython",
    "version": 3
   },
   "file_extension": ".py",
   "mimetype": "text/x-python",
   "name": "python",
   "nbconvert_exporter": "python",
   "pygments_lexer": "ipython3",
   "version": "3.9.7"
  },
  "vscode": {
   "interpreter": {
    "hash": "19af1a4fe0f07ee74bdc71e65a57ba00518dfe333f7db7ded39522da28c4341a"
   }
  }
 },
 "nbformat": 4,
 "nbformat_minor": 5
}
